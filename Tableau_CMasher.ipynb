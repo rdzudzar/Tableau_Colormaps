{
 "cells": [
  {
   "cell_type": "markdown",
   "metadata": {},
   "source": [
    "# Export CMasher colormaps and import them into Tableau"
   ]
  },
  {
   "cell_type": "markdown",
   "metadata": {},
   "source": [
    "If you use this tutorial please acknowledge it with a link to this GitHub document or webpage. Also please acknowledge CMasher if you are using its colormaps. How to acknowledge CMasher is given here https://cmasher.readthedocs.io/community_guidelines.html"
   ]
  },
  {
   "cell_type": "markdown",
   "metadata": {},
   "source": [
    "## Get colormaps from CMasher"
   ]
  },
  {
   "cell_type": "code",
   "execution_count": null,
   "metadata": {},
   "outputs": [],
   "source": [
    "# Import packages\n",
    "import cmasher as cmr\n",
    "\n",
    "# in case you don't have cmasher, install it\n",
    "#!pip install cmasher"
   ]
  },
  {
   "cell_type": "code",
   "execution_count": null,
   "metadata": {},
   "outputs": [],
   "source": [
    "cmr.__version__"
   ]
  },
  {
   "cell_type": "code",
   "execution_count": null,
   "metadata": {},
   "outputs": [],
   "source": [
    "# Get colormaps\n",
    "cmr.cm.cmap_d.keys()"
   ]
  },
  {
   "cell_type": "code",
   "execution_count": null,
   "metadata": {},
   "outputs": [],
   "source": [
    "# Get type of the colormaps\n",
    "cmr.cm.cmap_cd.keys()"
   ]
  },
  {
   "cell_type": "code",
   "execution_count": null,
   "metadata": {},
   "outputs": [],
   "source": [
    "# Find which colormap is within which cathegory\n",
    "# cmr.cm.cmap_cd"
   ]
  },
  {
   "cell_type": "code",
   "execution_count": null,
   "metadata": {},
   "outputs": [],
   "source": [
    "# There are only sequential and diverging colormaps\n",
    "# We obtain names of colormaps using only those that do not end with '_r' since they are the reversed version of each colormap\n",
    "\n",
    "sequential_colormap = [y for y in cmr.cm.cmap_cd['sequential'] if not y.endswith('_r')]\n",
    "diverging_colormap = [y for y in cmr.cm.cmap_cd['diverging'] if not y.endswith('_r')]"
   ]
  },
  {
   "cell_type": "markdown",
   "metadata": {},
   "source": [
    "## Get HEX values"
   ]
  },
  {
   "cell_type": "code",
   "execution_count": null,
   "metadata": {},
   "outputs": [],
   "source": [
    "# Get the HEXZ values of each sequential colormaps \n",
    "# Export them in range of: 0.15 to 0.85 -> you can export the full range if you prefer.\n",
    "all_sequential_maps_hex = []\n",
    "for colormap in sequential_colormap:\n",
    "    cmp = cmr.take_cmap_colors('cmr.{}'.format(colormap), None, cmap_range=(0.15, 0.85), return_fmt='hex')\n",
    "    all_sequential_maps_hex.append(cmp)"
   ]
  },
  {
   "cell_type": "code",
   "execution_count": null,
   "metadata": {},
   "outputs": [],
   "source": [
    "# Get the hex values of the diverging colormaps; in range 0.15 to 0.85\n",
    "all_diverging_maps_hex = []\n",
    "for colormap in diverging_colormap:\n",
    "    cmp = cmr.take_cmap_colors('cmr.{}'.format(colormap), None, cmap_range=(0.15, 0.85), return_fmt='hex')\n",
    "    all_diverging_maps_hex.append(cmp)"
   ]
  },
  {
   "cell_type": "markdown",
   "metadata": {},
   "source": [
    "## Transform colormaps into Tableau format"
   ]
  },
  {
   "cell_type": "code",
   "execution_count": null,
   "metadata": {},
   "outputs": [],
   "source": [
    "# Get all the sequential colormaps in the format that is required in Tableau\n",
    "for i, hexes in enumerate(all_sequential_maps_hex):\n",
    "    print('<color-palette name='+'\"'+'{}'.format(sequential_colormap[i])+'\" ' +'type=\"ordered-sequential\">')\n",
    "    for j, col in enumerate(hexes):\n",
    "        print('    <color>'+'{}'.format(hexes[j])+'</color>')\n",
    "    print('</color-palette>')"
   ]
  },
  {
   "cell_type": "code",
   "execution_count": null,
   "metadata": {},
   "outputs": [],
   "source": [
    "# Get all the diverging colormaps in the format that is required in Tableau\n",
    "for i, hexes in enumerate(all_diverging_maps_hex):\n",
    "    print('<color-palette name='+'\"'+'{}'.format(diverging_colormap[i])+'\" ' +'type=\"ordered-diverging\">')\n",
    "    for j, col in enumerate(hexes):\n",
    "        print('    <color>'+'{}'.format(hexes[j])+'</color>')\n",
    "    print('</color-palette>')"
   ]
  },
  {
   "cell_type": "markdown",
   "metadata": {},
   "source": [
    "## Parameters.tps format"
   ]
  },
  {
   "cell_type": "markdown",
   "metadata": {},
   "source": [
    "Copy the output of the last two outputs into the Tableau file: Preferences.tps  "
   ]
  },
  {
   "cell_type": "code",
   "execution_count": null,
   "metadata": {},
   "outputs": [],
   "source": [
    "'''\n",
    "<?xml version='1.0'?>\n",
    "\n",
    "<workbook>\n",
    "    <preferences>   \n",
    "    \n",
    "    \n",
    "    PLACE HERE THE OUTPUTS FROM THE COLORMAPS\n",
    "    \n",
    "    \n",
    "    </preferences>\n",
    "</workbook>\n",
    "'''"
   ]
  },
  {
   "cell_type": "markdown",
   "metadata": {},
   "source": [
    "## An example of the Parameters.tps file"
   ]
  },
  {
   "cell_type": "markdown",
   "metadata": {},
   "source": [
    "An example of the Tableau preference file with diverging colormap named Pride and sequential colormap named Rainforest"
   ]
  },
  {
   "cell_type": "code",
   "execution_count": null,
   "metadata": {},
   "outputs": [],
   "source": [
    "'''\n",
    "<?xml version='1.0'?>\n",
    "\n",
    "<workbook>\n",
    "    <preferences>  \n",
    "\n",
    "        <color-palette name=\"Pride\" type=\"ordered-diverging\">\n",
    "            <color>#160E28</color>\n",
    "            <color>#2A194D</color>\n",
    "            <color>#2C2D6D</color>\n",
    "            <color>#22467B</color>\n",
    "            <color>#1E5C7E</color>\n",
    "            <color>#2C707E</color>\n",
    "            <color>#42827E</color>\n",
    "            <color>#5A947D</color>\n",
    "            <color>#73A679</color>\n",
    "            <color>#94B86E</color>\n",
    "            <color>#B9C85C</color>\n",
    "            <color>#E2D740</color>\n",
    "            <color>#F9CD1E</color>\n",
    "            <color>#F7AD0D</color>\n",
    "            <color>#F08F0F</color>\n",
    "            <color>#E6711C</color>\n",
    "            <color>#D7562A</color>\n",
    "            <color>#C63D37</color>\n",
    "            <color>#B12543</color>\n",
    "            <color>#980E4E</color>\n",
    "            <color>#7C0154</color>\n",
    "            <color>#5B0B4C</color>\n",
    "            <color>#3B1035</color>\n",
    "            <color>#1F0A1A</color>\n",
    "        </color-palette>\n",
    "        \n",
    "        <color-palette name=\"Rainforest\" type=\"ordered-sequential\">\n",
    "            <color>#33034A</color>\n",
    "            <color>#3A0161</color> \n",
    "            <color>#3E0374</color> \n",
    "            <color>#3E1086</color> \n",
    "            <color>#392291</color> \n",
    "            <color>#313193</color> \n",
    "            <color>#254091</color> \n",
    "            <color>#194B8E</color> \n",
    "            <color>#0C5589</color> \n",
    "            <color>#035F84</color> \n",
    "            <color>#016781</color> \n",
    "            <color>#036F7E</color> \n",
    "            <color>#07787A</color> \n",
    "            <color>#0B7F77</color> \n",
    "            <color>#118772</color> \n",
    "            <color>#188E6D</color> \n",
    "            <color>#239665</color> \n",
    "            <color>#329E5B</color> \n",
    "            <color>#41A550</color> \n",
    "            <color>#55AB41</color> \n",
    "            <color>#6CB02E</color> \n",
    "            <color>#83B419</color> \n",
    "            <color>#9DB602</color> \n",
    "            <color>#B2B811</color> \n",
    "            <color>#C6BB2E</color> \n",
    "            <color>#D6BF4A</color> \n",
    "            <color>#E1C361</color> \n",
    "            <color>#EDC87D</color>\n",
    "        </color-palette>\n",
    "        \n",
    "    </preferences>\n",
    "</workbook>\n",
    "'''"
   ]
  },
  {
   "cell_type": "code",
   "execution_count": null,
   "metadata": {},
   "outputs": [],
   "source": []
  }
 ],
 "metadata": {
  "kernelspec": {
   "display_name": "Python 3",
   "language": "python",
   "name": "python3"
  },
  "language_info": {
   "codemirror_mode": {
    "name": "ipython",
    "version": 3
   },
   "file_extension": ".py",
   "mimetype": "text/x-python",
   "name": "python",
   "nbconvert_exporter": "python",
   "pygments_lexer": "ipython3",
   "version": "3.7.1"
  },
  "latex_envs": {
   "LaTeX_envs_menu_present": true,
   "autoclose": false,
   "autocomplete": true,
   "bibliofile": "biblio.bib",
   "cite_by": "apalike",
   "current_citInitial": 1,
   "eqLabelWithNumbers": true,
   "eqNumInitial": 1,
   "hotkeys": {
    "equation": "Ctrl-E",
    "itemize": "Ctrl-I"
   },
   "labels_anchors": false,
   "latex_user_defs": false,
   "report_style_numbering": false,
   "user_envs_cfg": false
  },
  "toc": {
   "base_numbering": 1,
   "nav_menu": {},
   "number_sections": true,
   "sideBar": true,
   "skip_h1_title": false,
   "title_cell": "Table of Contents",
   "title_sidebar": "Contents",
   "toc_cell": false,
   "toc_position": {},
   "toc_section_display": true,
   "toc_window_display": false
  },
  "varInspector": {
   "cols": {
    "lenName": 16,
    "lenType": 16,
    "lenVar": 40
   },
   "kernels_config": {
    "python": {
     "delete_cmd_postfix": "",
     "delete_cmd_prefix": "del ",
     "library": "var_list.py",
     "varRefreshCmd": "print(var_dic_list())"
    },
    "r": {
     "delete_cmd_postfix": ") ",
     "delete_cmd_prefix": "rm(",
     "library": "var_list.r",
     "varRefreshCmd": "cat(var_dic_list()) "
    }
   },
   "types_to_exclude": [
    "module",
    "function",
    "builtin_function_or_method",
    "instance",
    "_Feature"
   ],
   "window_display": false
  }
 },
 "nbformat": 4,
 "nbformat_minor": 4
}
